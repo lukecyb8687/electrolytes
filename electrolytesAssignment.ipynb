{
  "nbformat": 4,
  "nbformat_minor": 0,
  "metadata": {
    "colab": {
      "name": "electrolytesAssignment.ipynb",
      "provenance": []
    },
    "kernelspec": {
      "name": "python3",
      "display_name": "Python 3"
    }
  },
  "cells": [
    {
      "cell_type": "code",
      "metadata": {
        "id": "IKe8RWJVTDoe"
      },
      "source": [
        "import matplotlib.pyplot as plt\n",
        "import numpy as np\n",
        "import pandas as pd\n",
        "import scipy as sci\n",
        "import seaborn as sns\n",
        "import math\n",
        "from scipy.optimize import curve_fit\n",
        "from scipy.odr import ODR, Model, Data, RealData\n",
        "import random"
      ],
      "execution_count": 1,
      "outputs": []
    },
    {
      "cell_type": "code",
      "metadata": {
        "id": "BWRE5HgmTH_q",
        "outputId": "014de2a4-547f-4f5a-d88b-45004ca44983",
        "colab": {
          "base_uri": "https://localhost:8080/"
        }
      },
      "source": [
        "def gammaH2O(molality):\n",
        "  limit = molality/(55.56+molality)\n",
        "  x = np.linspace(0,limit,5)\n",
        "  f = []\n",
        "  for i in range(0,len(x)):\n",
        "    a = -x[i]/(1-x[i])\n",
        "    b = -4.338*x[i]**(-1/2)-373.811*x[i]**(1/2) + 1681.911*x[i] +0.45\n",
        "    c = (1+9*x[i]**(1/2))**2\n",
        "    fsol = a*(b/c)\n",
        "    f.append(fsol)\n",
        "\n",
        "  deltaX = limit/4\n",
        "  soln = (deltaX/3)*(0+4*f[1]+2*f[2]+4*f[3]+f[4])\n",
        "  gammaH2O = math.exp(soln)\n",
        "  return gammaH2O\n",
        "gammaH2O(1)"
      ],
      "execution_count": 6,
      "outputs": [
        {
          "output_type": "stream",
          "text": [
            "The activity coefficient of H2O is 1\n"
          ],
          "name": "stdout"
        },
        {
          "output_type": "stream",
          "text": [
            "/usr/local/lib/python3.6/dist-packages/ipykernel_launcher.py:7: RuntimeWarning: divide by zero encountered in double_scalars\n",
            "  import sys\n",
            "/usr/local/lib/python3.6/dist-packages/ipykernel_launcher.py:9: RuntimeWarning: invalid value encountered in double_scalars\n",
            "  if __name__ == '__main__':\n"
          ],
          "name": "stderr"
        },
        {
          "output_type": "execute_result",
          "data": {
            "text/plain": [
              "1.0027480636877018"
            ]
          },
          "metadata": {
            "tags": []
          },
          "execution_count": 6
        }
      ]
    },
    {
      "cell_type": "code",
      "metadata": {
        "id": "z1rluyc3TKLG",
        "outputId": "38116ae0-9675-4f7b-a43a-c46a1f02095b",
        "colab": {
          "base_uri": "https://localhost:8080/",
          "height": 381
        }
      },
      "source": [
        "def integrand(x):\n",
        "    a = -x/(1-x)\n",
        "    b = -4.338*x**(-1/2)-373.811*x**(1/2) + 1681.911*x +0.45\n",
        "    c = (1+9*x**(1/2))**2\n",
        "    fsol = a*(b/c)\n",
        "    return fsol\n",
        "\n",
        "from scipy.integrate import quad\n",
        "I = quad(integrand, 0, 0.01768)\n",
        "actualGamma = math.exp(I[0])\n",
        "calculatedGamma = gammaH2O(1)\n",
        "print('The activity coefficient of H2O is:',actualGamma)\n",
        "print('The error term is:', (actualGamma-calculatedGamma)/calculatedGamma)\n",
        "\n",
        "def meanMolality(molality):\n",
        "  x = molality/(55.56+molality)\n",
        "  numerator = -8.776*x**(1/2) + 124.598*x**(3/2)\n",
        "  denominator = 1+9*x**(1/2)\n",
        "  frac = numerator/denominator\n",
        "  gammaMean = math.exp(frac)\n",
        "\n",
        "  solnDH = -8.776*math.sqrt(x)\n",
        "  gammaMeanDH = math.exp(solnDH)\n",
        "  return gammaMean, gammaMeanDH\n",
        "\n",
        "molality = np.linspace(0,5,50)\n",
        "gammaStore = []\n",
        "gammaStoreDH = []\n",
        "for i in range(0,len(molality)):\n",
        "  gammaStore.append(meanMolality(molality[i])[0])\n",
        "  gammaStoreDH.append(meanMolality(molality[i])[1])\n",
        "plt.plot(molality,gammaStore,label ='Truncated Pitzer Formulation')\n",
        "plt.plot(molality,gammaStoreDH,label ='Debye-Huckel Equation')\n",
        "plt.grid()\n",
        "plt.legend()\n",
        "plt.xlabel('NaBr Molality (mol/kg)')\n",
        "plt.ylabel('Mean Activity Coefficient')\n",
        "plt.show()\n"
      ],
      "execution_count": 13,
      "outputs": [
        {
          "output_type": "stream",
          "text": [
            "The activity coefficient of H2O is: 1.0028357447061889\n",
            "The error term is: 8.744072580369943e-05\n"
          ],
          "name": "stdout"
        },
        {
          "output_type": "stream",
          "text": [
            "/usr/local/lib/python3.6/dist-packages/ipykernel_launcher.py:7: RuntimeWarning: divide by zero encountered in double_scalars\n",
            "  import sys\n",
            "/usr/local/lib/python3.6/dist-packages/ipykernel_launcher.py:9: RuntimeWarning: invalid value encountered in double_scalars\n",
            "  if __name__ == '__main__':\n"
          ],
          "name": "stderr"
        },
        {
          "output_type": "display_data",
          "data": {
            "image/png": "[encoded data removed]",
            "text/plain": [
              "<Figure size 432x288 with 1 Axes>"
            ]
          },
          "metadata": {
            "tags": [],
            "needs_background": "light"
          }
        }
      ]
    },
    {
      "cell_type": "code",
      "metadata": {
        "id": "hV3owBCTTd2E"
      },
      "source": [
        ""
      ],
      "execution_count": null,
      "outputs": []
    }
  ]
}